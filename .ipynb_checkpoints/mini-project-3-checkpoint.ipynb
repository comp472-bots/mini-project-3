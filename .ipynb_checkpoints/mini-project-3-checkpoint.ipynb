{
 "cells": [
  {
   "cell_type": "markdown",
   "id": "17e25637",
   "metadata": {},
   "source": [
    "# 2.2 Task 1: Evaluation of the word2vec-google-news-300 Pre-trained Model"
   ]
  },
  {
   "cell_type": "code",
   "execution_count": 1,
   "id": "86f24938",
   "metadata": {},
   "outputs": [
    {
     "name": "stderr",
     "output_type": "stream",
     "text": [
      "C:\\Users\\domen\\anaconda3\\lib\\site-packages\\gensim\\similarities\\__init__.py:15: UserWarning: The gensim.similarities.levenshtein submodule is disabled, because the optional Levenshtein package <https://pypi.org/project/python-Levenshtein/> is unavailable. Install Levenhstein (e.g. `pip install python-Levenshtein`) to suppress this warning.\n",
      "  warnings.warn(msg)\n"
     ]
    },
    {
     "name": "stdout",
     "output_type": "stream",
     "text": [
      "[==================================================] 100.0% 1662.8/1662.8MB downloaded\n"
     ]
    }
   ],
   "source": [
    "import gensim.downloader as api\n",
    "\n",
    "model = api.load(\"word2vec-google-news-300\")"
   ]
  },
  {
   "cell_type": "markdown",
   "id": "06d0fd8d",
   "metadata": {},
   "source": [
    "# 2.3 Task 2: Comparison with Other Pre-trained Models"
   ]
  },
  {
   "cell_type": "code",
   "execution_count": 32,
   "id": "5e326e7b",
   "metadata": {},
   "outputs": [
    {
     "name": "stdout",
     "output_type": "stream",
     "text": [
      "['__class__', '__contains__', '__delattr__', '__dict__', '__dir__', '__doc__', '__eq__', '__format__', '__ge__', '__getattribute__', '__getitem__', '__gt__', '__hash__', '__init__', '__init_subclass__', '__le__', '__len__', '__lt__', '__module__', '__ne__', '__new__', '__reduce__', '__reduce_ex__', '__repr__', '__setattr__', '__setitem__', '__sizeof__', '__str__', '__subclasshook__', '__weakref__', '_adapt_by_suffix', '_load_specials', '_log_evaluate_word_analogies', '_save_specials', '_smart_save', '_upconvert_old_d2vkv', '_upconvert_old_vocab', 'add_lifecycle_event', 'add_vector', 'add_vectors', 'allocate_vecattrs', 'closer_than', 'cosine_similarities', 'distance', 'distances', 'doesnt_match', 'evaluate_word_analogies', 'evaluate_word_pairs', 'expandos', 'fill_norms', 'get_index', 'get_normed_vectors', 'get_vecattr', 'get_vector', 'has_index_for', 'index2entity', 'index2word', 'index_to_key', 'init_sims', 'intersect_word2vec_format', 'key_to_index', 'lifecycle_events', 'load', 'load_word2vec_format', 'log_accuracy', 'log_evaluate_word_pairs', 'mapfile_path', 'most_similar', 'most_similar_cosmul', 'most_similar_to_given', 'n_similarity', 'next_index', 'norms', 'rank', 'rank_by_centrality', 'relative_cosine_similarity', 'resize_vectors', 'save', 'save_word2vec_format', 'set_vecattr', 'similar_by_key', 'similar_by_vector', 'similar_by_word', 'similarity', 'similarity_unseen_docs', 'sort_by_descending_frequency', 'unit_normalize_all', 'vector_size', 'vectors', 'vectors_norm', 'vocab', 'wmdistance', 'word_vec', 'words_closer_than']\n",
      "[ 1.82617188e-01  8.64257812e-02 -2.73437500e-01  1.28906250e-01\n",
      " -6.15234375e-02  4.24804688e-02  3.49121094e-02 -2.30468750e-01\n",
      "  4.78515625e-02  8.49609375e-02  2.92968750e-02  3.44848633e-03\n",
      "  2.47070312e-01 -7.81250000e-02 -9.82666016e-03  2.87109375e-01\n",
      "  4.51660156e-03  2.12890625e-01  9.76562500e-02  4.56542969e-02\n",
      "  1.60156250e-01 -9.47265625e-02  4.17968750e-01  9.81445312e-02\n",
      "  1.54296875e-01 -2.69531250e-01 -1.93359375e-01 -2.03125000e-01\n",
      " -2.28515625e-01 -4.22363281e-02 -1.49536133e-02 -4.12597656e-02\n",
      " -4.37011719e-02  4.06250000e-01  3.32031250e-01  2.00195312e-01\n",
      "  3.12500000e-02 -1.40625000e-01  4.24804688e-02  2.30468750e-01\n",
      "  1.98242188e-01  8.74023438e-02  2.99453735e-04 -6.34765625e-03\n",
      " -1.50146484e-02  6.10351562e-02 -1.32812500e-01  1.25976562e-01\n",
      " -4.83398438e-02 -1.73828125e-01  1.13281250e-01 -5.44433594e-02\n",
      " -3.61328125e-02 -3.10546875e-01  2.20703125e-01  1.40625000e-01\n",
      " -2.25830078e-03 -9.37500000e-02  1.72851562e-01  6.25000000e-02\n",
      " -1.31835938e-01  9.32617188e-02 -1.84570312e-01  1.05590820e-02\n",
      " -2.19726562e-02  6.68945312e-02 -2.83813477e-03  2.12890625e-01\n",
      " -8.00781250e-02 -5.76171875e-02 -6.44531250e-02 -1.73828125e-01\n",
      "  1.30615234e-02 -2.23632812e-01 -1.43554688e-01 -1.03515625e-01\n",
      "  1.24023438e-01  1.98242188e-01  2.86865234e-02  1.96289062e-01\n",
      "  2.53906250e-01 -6.78710938e-02  1.87500000e-01 -1.51367188e-01\n",
      " -4.08203125e-01 -2.92968750e-02 -2.61718750e-01  1.05468750e-01\n",
      " -8.54492188e-02 -3.24218750e-01 -6.73828125e-02 -1.39648438e-01\n",
      " -1.64062500e-01 -1.15722656e-01  8.64257812e-02 -2.29492188e-01\n",
      " -6.10351562e-02 -1.38671875e-01  6.15234375e-02 -2.75390625e-01\n",
      "  4.24804688e-02 -1.15356445e-02 -7.59887695e-03  1.16699219e-01\n",
      " -1.71875000e-01  1.33789062e-01  7.87353516e-03 -4.12597656e-02\n",
      " -2.30712891e-02 -1.70898438e-01 -2.35595703e-02  1.02050781e-01\n",
      "  2.42187500e-01  8.44726562e-02  3.18359375e-01 -2.27539062e-01\n",
      " -5.39550781e-02 -5.98144531e-02  3.32031250e-01  1.77734375e-01\n",
      "  3.32031250e-02  2.34375000e-01  1.78222656e-02  4.16015625e-01\n",
      " -8.69140625e-02  1.40991211e-02 -2.87109375e-01 -4.63867188e-02\n",
      "  1.05957031e-01  3.53515625e-01  3.02734375e-01 -4.21142578e-03\n",
      " -2.14843750e-01 -1.02539062e-01 -2.65625000e-01 -1.06445312e-01\n",
      "  1.43554688e-01 -3.00781250e-01 -2.13623047e-02  1.36718750e-02\n",
      "  2.39562988e-03  1.60156250e-01 -9.76562500e-02  1.27929688e-01\n",
      "  2.07031250e-01 -1.37939453e-02  1.29882812e-01 -1.40991211e-02\n",
      "  1.21307373e-03  2.53906250e-01  1.39648438e-01 -8.98437500e-02\n",
      " -1.45507812e-01  6.88476562e-02  3.41796875e-02 -1.01074219e-01\n",
      " -3.93066406e-02  3.71093750e-02 -3.49609375e-01 -6.34765625e-02\n",
      " -2.15820312e-01  2.16796875e-01  1.25000000e-01  1.95312500e-01\n",
      "  1.28906250e-01 -2.30468750e-01  1.18164062e-01 -8.49609375e-02\n",
      " -1.25122070e-03  5.07812500e-02 -8.30078125e-03  2.11914062e-01\n",
      "  1.48437500e-01 -3.14453125e-01 -1.64062500e-01 -1.17675781e-01\n",
      " -1.59179688e-01 -1.37695312e-01  6.25000000e-02  4.66308594e-02\n",
      "  3.84521484e-03 -1.24511719e-01  1.59912109e-02 -1.58691406e-02\n",
      "  2.84423828e-02  9.22851562e-02 -2.44140625e-01  1.15234375e-01\n",
      " -5.02929688e-02 -9.37500000e-02 -5.83496094e-02 -6.49414062e-02\n",
      "  4.41406250e-01 -7.86132812e-02 -5.34667969e-02 -3.04687500e-01\n",
      " -7.81250000e-02  1.92382812e-01  8.98437500e-02 -1.30859375e-01\n",
      " -1.54418945e-02  1.47460938e-01 -5.90820312e-02 -4.19921875e-02\n",
      "  1.43432617e-02  4.44335938e-02 -1.82617188e-01  1.54296875e-01\n",
      " -2.43164062e-01 -4.51660156e-02 -1.17675781e-01  1.04492188e-01\n",
      "  9.52148438e-02  8.39843750e-02 -1.66015625e-01  2.17285156e-02\n",
      "  2.69531250e-01  7.03125000e-02  5.32226562e-02  1.18408203e-02\n",
      " -1.61132812e-02 -5.12695312e-02 -2.55859375e-01 -3.19824219e-02\n",
      "  1.14257812e-01 -1.49414062e-01  3.97949219e-02 -4.39453125e-01\n",
      "  9.81445312e-02 -2.24609375e-01 -1.05957031e-01 -2.12669373e-04\n",
      "  1.28906250e-01 -2.37304688e-01 -2.26562500e-01 -1.58203125e-01\n",
      " -3.44238281e-02 -2.29492188e-01  2.87109375e-01 -2.39257812e-01\n",
      " -1.75781250e-01 -6.78710938e-02  2.05078125e-02  2.42919922e-02\n",
      " -5.68847656e-02 -1.02050781e-01 -1.19628906e-01 -2.92968750e-02\n",
      " -1.84570312e-01  2.07031250e-01 -6.20117188e-02 -3.03649902e-03\n",
      "  1.73828125e-01  2.24609375e-01  3.00781250e-01  4.90722656e-02\n",
      " -1.80664062e-02  4.54101562e-02 -2.05078125e-01 -8.15429688e-02\n",
      "  1.04492188e-01 -8.00781250e-02  1.18652344e-01  4.08203125e-01\n",
      " -2.16796875e-01  5.27343750e-02  1.15234375e-01 -1.89453125e-01\n",
      " -1.04980469e-01  4.68750000e-02 -1.73339844e-02  4.05273438e-02\n",
      " -7.91015625e-02 -6.44531250e-02 -7.56835938e-02 -1.27929688e-01\n",
      "  3.71093750e-02  1.41601562e-01 -1.20239258e-02 -2.46582031e-02\n",
      "  1.29882812e-01  1.38671875e-01 -9.37500000e-02 -1.23901367e-02\n",
      " -2.72216797e-02  1.66015625e-01 -3.61328125e-01 -4.02343750e-01\n",
      " -4.98046875e-02  9.47265625e-02 -3.29589844e-02  1.37939453e-02\n",
      "  1.18164062e-01 -9.17968750e-02 -1.91406250e-01 -1.08398438e-01\n",
      "  8.78906250e-02  5.54199219e-02  9.96093750e-02  6.93359375e-02]\n",
      "0.8185792\n",
      "unique\n"
     ]
    }
   ],
   "source": [
    "print(dir(model))\n",
    "print(model.get_vector(\"enormously\"))\n",
    "print(model.similarity(\"enormously\", \"tremendously\"))\n",
    "print(model.most_similar_to_given(\"enormously\", [\"test\", \"tremendously\", \"unique\"]))"
   ]
  },
  {
   "cell_type": "code",
   "execution_count": null,
   "id": "02449678",
   "metadata": {},
   "outputs": [],
   "source": []
  }
 ],
 "metadata": {
  "kernelspec": {
   "display_name": "Python 3",
   "language": "python",
   "name": "python3"
  },
  "language_info": {
   "codemirror_mode": {
    "name": "ipython",
    "version": 3
   },
   "file_extension": ".py",
   "mimetype": "text/x-python",
   "name": "python",
   "nbconvert_exporter": "python",
   "pygments_lexer": "ipython3",
   "version": "3.8.8"
  }
 },
 "nbformat": 4,
 "nbformat_minor": 5
}
