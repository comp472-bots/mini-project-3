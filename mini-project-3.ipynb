{
 "cells": [
  {
   "cell_type": "markdown",
   "id": "17e25637",
   "metadata": {},
   "source": [
    "# 2.2 Task 1: Evaluation of the word2vec-google-news-300 Pre-trained Model"
   ]
  },
  {
   "cell_type": "code",
   "execution_count": 1,
   "id": "86f24938",
   "metadata": {},
   "outputs": [
    {
     "name": "stderr",
     "output_type": "stream",
     "text": [
      "C:\\Users\\domen\\anaconda3\\lib\\site-packages\\gensim\\similarities\\__init__.py:15: UserWarning: The gensim.similarities.levenshtein submodule is disabled, because the optional Levenshtein package <https://pypi.org/project/python-Levenshtein/> is unavailable. Install Levenhstein (e.g. `pip install python-Levenshtein`) to suppress this warning.\n",
      "  warnings.warn(msg)\n"
     ]
    }
   ],
   "source": [
    "import gensim.downloader as api\n",
    "\n",
    "model_word2vec_google_news_300 = api.load(\"word2vec-google-news-300\")"
   ]
  },
  {
   "cell_type": "code",
   "execution_count": 2,
   "id": "ce1fc46f",
   "metadata": {},
   "outputs": [
    {
     "name": "stdout",
     "output_type": "stream",
     "text": [
      "['__class__', '__contains__', '__delattr__', '__dict__', '__dir__', '__doc__', '__eq__', '__format__', '__ge__', '__getattribute__', '__getitem__', '__gt__', '__hash__', '__init__', '__init_subclass__', '__le__', '__len__', '__lt__', '__module__', '__ne__', '__new__', '__reduce__', '__reduce_ex__', '__repr__', '__setattr__', '__setitem__', '__sizeof__', '__str__', '__subclasshook__', '__weakref__', '_adapt_by_suffix', '_load_specials', '_log_evaluate_word_analogies', '_save_specials', '_smart_save', '_upconvert_old_d2vkv', '_upconvert_old_vocab', 'add_lifecycle_event', 'add_vector', 'add_vectors', 'allocate_vecattrs', 'closer_than', 'cosine_similarities', 'distance', 'distances', 'doesnt_match', 'evaluate_word_analogies', 'evaluate_word_pairs', 'expandos', 'fill_norms', 'get_index', 'get_normed_vectors', 'get_vecattr', 'get_vector', 'has_index_for', 'index2entity', 'index2word', 'index_to_key', 'init_sims', 'intersect_word2vec_format', 'key_to_index', 'lifecycle_events', 'load', 'load_word2vec_format', 'log_accuracy', 'log_evaluate_word_pairs', 'mapfile_path', 'most_similar', 'most_similar_cosmul', 'most_similar_to_given', 'n_similarity', 'next_index', 'norms', 'rank', 'rank_by_centrality', 'relative_cosine_similarity', 'resize_vectors', 'save', 'save_word2vec_format', 'set_vecattr', 'similar_by_key', 'similar_by_vector', 'similar_by_word', 'similarity', 'similarity_unseen_docs', 'sort_by_descending_frequency', 'unit_normalize_all', 'vector_size', 'vectors', 'vectors_norm', 'vocab', 'wmdistance', 'word_vec', 'words_closer_than']\n"
     ]
    }
   ],
   "source": [
    "def documentation(model):\n",
    "    # Let's print all the methods of the model\n",
    "    print(dir(model))\n",
    "\n",
    "documentation(model_word2vec_google_news_300)"
   ]
  },
  {
   "cell_type": "code",
   "execution_count": 3,
   "id": "29611f88",
   "metadata": {},
   "outputs": [
    {
     "name": "stdout",
     "output_type": "stream",
     "text": [
      "Let's do some testing to explore how different methods work!\n",
      "\n",
      "Let's test the following question_word to find the closest synonym: 'enormously'\n",
      "Given the following options: ['appropriately', 'uniquely', 'tremendously', 'decidedly']\n",
      "\n",
      "Using the 'model.most_similar_to_given' method, we compute the following: 'tremendously'\n",
      "\n",
      "Let's see the cosine between the 'enormously' and 'tremendously' using the 'model.similarity' method!\n",
      "The cosine similarity between enormously and tremendously is: 0.8185791969299316\n",
      "\n",
      "If we compute the cosine similarity manually, we should also achieve the same result: 0.8185791969299316\n"
     ]
    }
   ],
   "source": [
    "def testing(model): \n",
    "    print(\"Let's do some testing to explore how different methods work!\\n\")\n",
    "    \n",
    "    question_word = \"enormously\"\n",
    "    options = [\"appropriately\", \"uniquely\", \"tremendously\", \"decidedly\"]\n",
    "    print(f\"Let's test the following question_word to find the closest synonym: '{question_word}'\")\n",
    "    print(f\"Given the following options: {options}\")\n",
    "    \n",
    "    # Let's test the \"most_similar_to_given\" method!\n",
    "    answer_word = model.most_similar_to_given(question_word, options)\n",
    "    print(f\"\\nUsing the 'model.most_similar_to_given' method, we compute the following: '{answer_word}'\")\n",
    "    \n",
    "    # Let's test the \"model.similarity\" method!\n",
    "    print(f\"\\nLet's see the cosine between the '{question_word}' and '{answer_word}' using the 'model.similarity' method!\")\n",
    "    cos_sim = model.similarity(question_word, answer_word)\n",
    "    print(f\"The cosine similarity between {question_word} and {answer_word} is: {cos_sim}\")\n",
    "\n",
    "    # Let's make sure the answer computed above correctly calculates the cosine similarity! \n",
    "    from numpy import dot\n",
    "    from numpy.linalg import norm\n",
    "    v1 = model.get_vector(question_word)\n",
    "    v2 = model.get_vector(answer_word)\n",
    "    cos_sim = dot(v1, v2)/(norm(v1)*norm(v2))\n",
    "    print(f\"\\nIf we compute the cosine similarity manually, we should also achieve the same result: {cos_sim}\")\n",
    "\n",
    "testing(model_word2vec_google_news_300)"
   ]
  },
  {
   "cell_type": "code",
   "execution_count": 4,
   "id": "8c469b30",
   "metadata": {},
   "outputs": [
    {
     "name": "stdout",
     "output_type": "stream",
     "text": [
      "['recognized', 'acknowledged', 'successful', 'depicted', 'acknowledged', 'welcomed']\n",
      "['keen', 'sharp', 'useful', 'simple', 'famous', 'sharp']\n",
      "['issues', 'subjects', 'training', 'salaries', 'subjects', 'benefits']\n",
      "['make', 'earn', 'earn', 'print', 'trade', 'borrow']\n",
      "['prominent', 'conspicuous', 'battered', 'ancient', 'mysterious', 'conspicuous']\n",
      "['slowly', 'gradually', 'rarely', 'gradually', 'effectively', 'continuously']\n",
      "['built', 'constructed', 'constructed', 'proposed', 'financed', 'organized']\n",
      "['sustained', 'prolonged', 'prolonged', 'refined', 'lowered', 'analyzed']\n",
      "['distribute', 'circulate', 'commercialize', 'circulate', 'research', 'acknowledge']\n",
      "['consumed', 'eaten', 'bred', 'caught', 'eaten', 'supplied']\n",
      "['wildly', 'furiously', 'distinctively', 'mysteriously', 'abruptly', 'furiously']\n",
      "['tasks', 'jobs', 'customers', 'materials', 'shops', 'jobs']\n",
      "['primarily', 'chiefly', 'occasionally', 'cautiously', 'consistently', 'chiefly']\n",
      "['colloquial', 'conversational', 'recorded', 'misunderstood', 'incorrect', 'conversational']\n",
      "['peculiarly', 'uniquely', 'partly', 'uniquely', 'patriotically', 'suspiciously']\n",
      "['costly', 'expensive', 'expensive', 'beautiful', 'popular', 'complicated']\n",
      "['perseverance', 'endurance', 'endurance', 'skill', 'generosity', 'disturbance']\n",
      "['tranquillity', 'peacefulness', 'peacefulness', 'harshness', 'weariness', 'happiness']\n",
      "['concocted', 'devised', 'devised', 'cleaned', 'requested', 'supervised']\n",
      "['hastily', 'hurriedly', 'hurriedly', 'shrewdly', 'habitually', 'chronologically']\n"
     ]
    }
   ],
   "source": [
    "import csv\n",
    "def convert_file_to_csv(filename):\n",
    "    lines = []\n",
    "    with open(filename) as f:\n",
    "        lines = f.readlines()\n",
    "\n",
    "    details_file = open(f\"sample_9.csv\", mode='w', newline=\"\")\n",
    "    details_writer = csv.writer(details_file, delimiter=',', quotechar='\"', quoting=csv.QUOTE_MINIMAL)\n",
    "    details_writer.writerow([\"question\", \"answer\", 0, 1, 2, 3])\n",
    "    \n",
    "    count = 0\n",
    "    question_word = None\n",
    "    answer_word = None\n",
    "    options = []\n",
    "    \n",
    "    for line in lines:\n",
    "        if count==0:\n",
    "            question_word = line.split(\"\\t\")[1].strip(\"\\n\")\n",
    "            count += 1\n",
    "        elif 0 < count < 5:\n",
    "            option = line.split(\"\\t\")[1].strip(\"\\n\")\n",
    "            options.append(option)\n",
    "            count += 1\n",
    "        elif count==5:\n",
    "            answer_letter = line.strip(\"\\n\")\n",
    "            index = ord(answer_letter) - 97\n",
    "            answer_word = options[index]\n",
    "            \n",
    "            # write to file\n",
    "            row = [question_word, answer_word] + options\n",
    "            details_writer.writerow(row)\n",
    "            print(row)\n",
    "            \n",
    "            # reset\n",
    "            count = 0\n",
    "            question_word = None\n",
    "            answer_word = None\n",
    "            options = []\n",
    "        else:\n",
    "            pass\n",
    "        \n",
    "convert_file_to_csv('sample_9.txt')"
   ]
  },
  {
   "cell_type": "code",
   "execution_count": 5,
   "id": "e1c35e71",
   "metadata": {
    "scrolled": true
   },
   "outputs": [
    {
     "name": "stdout",
     "output_type": "stream",
     "text": [
      "recognized,acknowledged,acknowledged,correct\n",
      "keen,sharp,useful,wrong\n",
      "issues,subjects,subjects,correct\n",
      "make,earn,earn,correct\n",
      "prominent,conspicuous,conspicuous,correct\n",
      "slowly,gradually,gradually,correct\n",
      "built,constructed,constructed,correct\n",
      "sustained,prolonged,prolonged,correct\n",
      "distribute,circulate,commercialize,wrong\n",
      "consumed,eaten,eaten,correct\n",
      "wildly,furiously,furiously,correct\n",
      "tasks,jobs,jobs,correct\n",
      "primarily,chiefly,chiefly,correct\n",
      "colloquial,conversational,conversational,correct\n",
      "peculiarly,uniquely,uniquely,correct\n",
      "costly,expensive,expensive,correct\n",
      "perseverance,endurance,generosity,wrong\n",
      "tranquillity,peacefulness,peacefulness,guess\n",
      "concocted,devised,devised,correct\n",
      "hastily,hurriedly,hurriedly,correct\n",
      "\n",
      "\n",
      "(a) Model name: word2vec-google-news-300\n",
      "(b) The size of the vocabulary: 3000000\n",
      "(c) The number of correct labels (call this 'C'): 16\n",
      "(d) The number of questions the Model answered without guessing (call this 'V' ): 19\n",
      "(e) the accuracy of the model (i.e. C/V): 0.8421052631578947\n",
      "\n",
      "\n"
     ]
    }
   ],
   "source": [
    "import csv\n",
    "from enum import Enum\n",
    "import random\n",
    "\n",
    "class Labels(Enum):\n",
    "    GUESS = \"guess\"\n",
    "    CORRECT = \"correct\"\n",
    "    WRONG = \"wrong\"\n",
    "    \n",
    "def random_guess(options):\n",
    "    random_index = random.randint(0, len(options) - 1)\n",
    "    return options[random_index]\n",
    "\n",
    "def print_analysis(model, model_name, num_correct, num_wrong):\n",
    "    print(f\"\\n\")\n",
    "    print(f\"(a) Model name: {model_name}\")\n",
    "    print(f\"(b) The size of the vocabulary: {len(model)}\")\n",
    "    print(f\"(c) The number of correct labels (call this 'C'): {num_correct}\")\n",
    "    print(f\"(d) The number of questions the Model answered without guessing (call this 'V' ): {num_correct + num_wrong}\")\n",
    "    print(f\"(e) the accuracy of the model (i.e. C/V): {num_correct/(num_correct + num_wrong)}\\n\\n\")\n",
    "\n",
    "def compute_most_similar_term(model, question_word, options):\n",
    "    similarity = None\n",
    "    guess_word = None\n",
    "    for option in options:\n",
    "        try:\n",
    "            current = model.similarity(question_word, option)\n",
    "            if not similarity or current > similarity:\n",
    "                similarity = current\n",
    "                guess_word = option\n",
    "        except KeyError:\n",
    "            pass     \n",
    "    return (guess_word, similarity)\n",
    "\n",
    "def compute_synonym(model, row):\n",
    "    question_word = row[0]\n",
    "    answer_word = row[1]\n",
    "    options = row[2:]\n",
    "    \n",
    "    guess_word, similarity, label = None, None, None\n",
    "    \n",
    "    # Let's check if the question word is defined in the vocabulary\n",
    "    try:\n",
    "        question_word_vector = model.get_vector(question_word)\n",
    "    except KeyError:\n",
    "        label = Labels.GUESS\n",
    "        guess_word = random_guess(options)\n",
    "        return (question_word, answer_word, guess_word, similarity, Labels.GUESS)\n",
    "    \n",
    "    # If the question word is defined, we can proceed with finding the most similar term\n",
    "    (guess_word, similarity) = compute_most_similar_term(model, question_word, options)\n",
    "    \n",
    "    if guess_word == answer_word:\n",
    "        label = Labels.CORRECT\n",
    "    elif not guess_word:\n",
    "        # If none of the options are in the vocabulary, then it's a guess\n",
    "        label = Labels.GUESS\n",
    "        guess_word = random_guess(options)\n",
    "    else:\n",
    "        label = Labels.WRONG\n",
    "    \n",
    "    return (question_word, answer_word, guess_word, similarity, label)\n",
    "            \n",
    "def compute_synonyms(model, model_name):\n",
    "    with open('sample_9.csv', newline='') as csvfile:\n",
    "\n",
    "        reader = csv.reader(csvfile, delimiter=',')\n",
    "\n",
    "        # Skip the first row of the csv\n",
    "        next(reader)\n",
    "        \n",
    "        num_correct, num_guess, num_wrong = 0, 0, 0\n",
    "\n",
    "        details_file = open(f\"{model_name}-details.csv\", mode='w', newline=\"\")\n",
    "        details_writer = csv.writer(details_file, delimiter=',', quotechar='\"', quoting=csv.QUOTE_MINIMAL)\n",
    "        analysis_file = open(f\"analysis.csv\", mode='a', newline=\"\")\n",
    "        analysis_writer = csv.writer(analysis_file, delimiter=',', quotechar='\"', quoting=csv.QUOTE_MINIMAL)\n",
    "        \n",
    "        for row in reader:\n",
    "            question_word, answer_word, guess_word, similarity, label = None, None, None, None, None\n",
    "\n",
    "            (question_word, answer_word, guess_word, similarity, label) = compute_synonym(model, row)\n",
    "            \n",
    "            if label == Labels.CORRECT:\n",
    "                num_correct += 1\n",
    "            elif label == Labels.GUESS:\n",
    "                num_guess += 1\n",
    "            else:\n",
    "                num_wrong += 1\n",
    "\n",
    "            output = f\"{question_word},{answer_word},{guess_word},{label.value}\"\n",
    "            print(output)\n",
    "\n",
    "            details_writer.writerow([question_word, answer_word, guess_word, label.value])\n",
    "         \n",
    "        performance = (num_correct/(num_correct + num_wrong)) * 100\n",
    "        \n",
    "        analysis_writer.writerow([model_name, len(model), num_correct, (num_correct + num_wrong), performance])\n",
    "        print_analysis(model, model_name, num_correct, num_wrong)\n",
    "        \n",
    "        details_file.close()\n",
    "        analysis_file.close()\n",
    "        \n",
    "        return performance\n",
    "\n",
    "def clear_file(file_name):\n",
    "    analysis_file = open(f\"{file_name}\", mode='w')\n",
    "    analysis_file.truncate(0)\n",
    "    analysis_file.close()\n",
    "\n",
    "clear_file(\"analysis.csv\")\n",
    "clear_file(\"word2vec-google-news-300-details.csv\")\n",
    "performance_google_300 = compute_synonyms(model_word2vec_google_news_300, \"word2vec-google-news-300\")"
   ]
  },
  {
   "cell_type": "markdown",
   "id": "06d0fd8d",
   "metadata": {},
   "source": [
    "# 2.3 Task 2: Comparison with Other Pre-trained Models"
   ]
  },
  {
   "cell_type": "markdown",
   "id": "1e576e67",
   "metadata": {},
   "source": [
    "**1) 2 new models from different corpora but same embedding size**"
   ]
  },
  {
   "cell_type": "code",
   "execution_count": 6,
   "id": "116c2e1a",
   "metadata": {},
   "outputs": [
    {
     "name": "stdout",
     "output_type": "stream",
     "text": [
      "__testing_word2vec-matrix-synopsis (-1 records): [THIS IS ONLY FOR TESTING] Word vecrors ...\n",
      "conceptnet-numberbatch-17-06-300 (1917247 records): ConceptNet Numberbatch consists of state...\n",
      "fasttext-wiki-news-subwords-300 (999999 records): 1 million word vectors trained on Wikipe...\n",
      "glove-twitter-100 (1193514 records): Pre-trained vectors based on  2B tweets,...\n",
      "glove-twitter-200 (1193514 records): Pre-trained vectors based on 2B tweets, ...\n",
      "glove-twitter-25 (1193514 records): Pre-trained vectors based on 2B tweets, ...\n",
      "glove-twitter-50 (1193514 records): Pre-trained vectors based on 2B tweets, ...\n",
      "glove-wiki-gigaword-100 (400000 records): Pre-trained vectors based on Wikipedia 2...\n",
      "glove-wiki-gigaword-200 (400000 records): Pre-trained vectors based on Wikipedia 2...\n",
      "glove-wiki-gigaword-300 (400000 records): Pre-trained vectors based on Wikipedia 2...\n",
      "glove-wiki-gigaword-50 (400000 records): Pre-trained vectors based on Wikipedia 2...\n",
      "word2vec-google-news-300 (3000000 records): Pre-trained vectors trained on a part of...\n",
      "word2vec-ruscorpora-300 (184973 records): Word2vec Continuous Skipgram vectors tra...\n"
     ]
    }
   ],
   "source": [
    "# Let's take a look at the various models available for use in the Gensim library\n",
    "info = api.info()\n",
    "\n",
    "for model_name, model_data in sorted(info['models'].items()):\n",
    "    print(\n",
    "        '%s (%d records): %s' % (\n",
    "            model_name,\n",
    "            model_data.get('num_records', -1),\n",
    "            model_data['description'][:40] + '...',\n",
    "        )\n",
    "    )"
   ]
  },
  {
   "cell_type": "code",
   "execution_count": 7,
   "id": "d9eb591b",
   "metadata": {
    "scrolled": true
   },
   "outputs": [],
   "source": [
    "# Let's use a model from Wikipedia corpora with embedding size of 100\n",
    "model_glove_wiki_100 = api.load(\"glove-wiki-gigaword-100\")\n",
    "\n",
    "# Let's use a model from Twitter corpora with embedding size of 100\n",
    "model_glove_twitter_100 = api.load(\"glove-twitter-100\")"
   ]
  },
  {
   "cell_type": "code",
   "execution_count": 8,
   "id": "c55246b1",
   "metadata": {},
   "outputs": [
    {
     "name": "stdout",
     "output_type": "stream",
     "text": [
      "recognized,acknowledged,successful,wrong\n",
      "keen,sharp,useful,wrong\n",
      "issues,subjects,subjects,correct\n",
      "make,earn,earn,correct\n",
      "prominent,conspicuous,ancient,wrong\n",
      "slowly,gradually,gradually,correct\n",
      "built,constructed,constructed,correct\n",
      "sustained,prolonged,prolonged,correct\n",
      "distribute,circulate,commercialize,wrong\n",
      "consumed,eaten,eaten,correct\n",
      "wildly,furiously,furiously,correct\n",
      "tasks,jobs,jobs,correct\n",
      "primarily,chiefly,chiefly,correct\n",
      "colloquial,conversational,conversational,correct\n",
      "peculiarly,uniquely,uniquely,correct\n",
      "costly,expensive,expensive,correct\n",
      "perseverance,endurance,generosity,wrong\n",
      "tranquillity,peacefulness,peacefulness,correct\n",
      "concocted,devised,devised,correct\n",
      "hastily,hurriedly,hurriedly,correct\n",
      "\n",
      "\n",
      "(a) Model name: glove-wiki-gigaword-100\n",
      "(b) The size of the vocabulary: 400000\n",
      "(c) The number of correct labels (call this 'C'): 15\n",
      "(d) The number of questions the Model answered without guessing (call this 'V' ): 20\n",
      "(e) the accuracy of the model (i.e. C/V): 0.75\n",
      "\n",
      "\n",
      "recognized,acknowledged,acknowledged,correct\n",
      "keen,sharp,sharp,correct\n",
      "issues,subjects,benefits,wrong\n",
      "make,earn,trade,wrong\n",
      "prominent,conspicuous,mysterious,wrong\n",
      "slowly,gradually,gradually,correct\n",
      "built,constructed,constructed,correct\n",
      "sustained,prolonged,prolonged,correct\n",
      "distribute,circulate,commercialize,wrong\n",
      "consumed,eaten,eaten,correct\n",
      "wildly,furiously,furiously,correct\n",
      "tasks,jobs,materials,wrong\n",
      "primarily,chiefly,consistently,wrong\n",
      "colloquial,conversational,conversational,correct\n",
      "peculiarly,uniquely,partly,guess\n",
      "costly,expensive,expensive,correct\n",
      "perseverance,endurance,endurance,correct\n",
      "tranquillity,peacefulness,weariness,wrong\n",
      "concocted,devised,devised,correct\n",
      "hastily,hurriedly,hurriedly,correct\n",
      "\n",
      "\n",
      "(a) Model name: glove-twitter-100\n",
      "(b) The size of the vocabulary: 1193514\n",
      "(c) The number of correct labels (call this 'C'): 12\n",
      "(d) The number of questions the Model answered without guessing (call this 'V' ): 19\n",
      "(e) the accuracy of the model (i.e. C/V): 0.631578947368421\n",
      "\n",
      "\n"
     ]
    }
   ],
   "source": [
    "performance_wiki_100 = compute_synonyms(model_glove_wiki_100, \"glove-wiki-gigaword-100\")\n",
    "performance_twitter_100 = compute_synonyms(model_glove_twitter_100, \"glove-twitter-100\")\n",
    "\n",
    "performances_corpora_list = [performance_wiki_100, performance_twitter_100]"
   ]
  },
  {
   "cell_type": "code",
   "execution_count": 9,
   "id": "2a2cd5ee",
   "metadata": {},
   "outputs": [
    {
     "data": {
      "image/png": "[encoded data removed]",
      "text/plain": [
       "<Figure size 432x288 with 1 Axes>"
      ]
     },
     "metadata": {
      "needs_background": "light"
     },
     "output_type": "display_data"
    }
   ],
   "source": [
    "# Let's compare the results of models from different corpora but same embedding size\n",
    "\n",
    "import matplotlib.pyplot as plt \n",
    "\n",
    "corpora_list = ['Wikipedia (glove-wiki-gigaword-100)', 'Twitter (glove-twitter-100)']\n",
    "\n",
    "# Human gold standard performance retrieved from class results\n",
    "human_standard_perforance = 85.6\n",
    "\n",
    "# Average performance if choices were all guesses - on average, 1 correct answers out of 4 guess-words or 25%\n",
    "guess_performance = 25\n",
    "\n",
    "# Creating the bar plot\n",
    "plt.bar(corpora_list, performances_corpora_list, color = 'lightblue', width = 0.7, align = 'center')\n",
    "\n",
    "plt.xlabel(\"Corpora\")\n",
    "plt.ylabel(\"Performance (%)\")\n",
    "plt.title(\"Performance of Different Corpora with Same Embedding Size\")\n",
    "plt.axhline(human_standard_perforance, label = 'Human Gold-Standard', color = 'orangered', lw = 3, ls = '--')\n",
    "plt.axhline(guess_performance, label = 'Only Guesses', color = 'green', lw = 3, ls = '--')\n",
    "plt.legend(loc = 'lower left')\n",
    "plt.show()\n",
    "\n"
   ]
  },
  {
   "cell_type": "code",
   "execution_count": 10,
   "id": "f5c40e4c",
   "metadata": {},
   "outputs": [
    {
     "name": "stdout",
     "output_type": "stream",
     "text": [
      "\n",
      "In the bar plot above, the performance of two different word embedding models, using Wikipedia and Twitter corpora, \n",
      "respectively, are compared. Upon seeing the results, it is evident that the Wikipedia model performs significantly\n",
      "better than the Twitter model with a performance rate of 81% versus only 50% for the Twitter one. The performance\n",
      "metric in this case relates to the number of correct synonym word answers over the number of questions the model \n",
      "answered without guessing. \n",
      "\n",
      "This difference in performance can be attributed to the informal nature of social media platforms such as Twitter\n",
      "where user's typically use slang and may have typos in their texts. This may, in turn, diminish the training \n",
      "quality since a word's window will contain this informal text. \n",
      "\n",
      "It is also worth noting that neither model performs better than the human gold-standard baseline. This can be due\n",
      "the optimal hyperparamters not being reached in either case leading to worse performance.\n",
      "\n"
     ]
    }
   ],
   "source": [
    "comparison_different_corpora = '''\n",
    "In the bar plot above, the performance of two different word embedding models, using Wikipedia and Twitter corpora, \n",
    "respectively, are compared. Upon seeing the results, it is evident that the Wikipedia model performs significantly\n",
    "better than the Twitter model with a performance rate of 81% versus only 50% for the Twitter one. The performance\n",
    "metric in this case relates to the number of correct synonym word answers over the number of questions the model \n",
    "answered without guessing. \n",
    "\n",
    "This difference in performance can be attributed to the informal nature of social media platforms such as Twitter\n",
    "where user's typically use slang and may have typos in their texts. This may, in turn, diminish the training \n",
    "quality since a word's window will contain this informal text. \n",
    "\n",
    "It is also worth noting that neither model performs better than the human gold-standard baseline. This can be due\n",
    "the optimal hyperparamters not being reached in either case leading to worse performance.\n",
    "'''\n",
    "print(comparison_different_corpora)"
   ]
  },
  {
   "cell_type": "markdown",
   "id": "585d4508",
   "metadata": {},
   "source": [
    "**2) 2 new models from the same corpus but different embedding sizes**"
   ]
  },
  {
   "cell_type": "code",
   "execution_count": 11,
   "id": "1a01f382",
   "metadata": {
    "scrolled": true
   },
   "outputs": [],
   "source": [
    "# Let's use a model from Wikipedia corpora with embedding size of 50\n",
    "model_glove_wiki_50 = api.load(\"glove-wiki-gigaword-50\")\n",
    "\n",
    "# Let's also use a model from Wikipedia corpora with embedding size of 300 instead\n",
    "model_glove_wiki_300 = api.load(\"glove-wiki-gigaword-300\")"
   ]
  },
  {
   "cell_type": "code",
   "execution_count": 12,
   "id": "2dafebd7",
   "metadata": {},
   "outputs": [
    {
     "name": "stdout",
     "output_type": "stream",
     "text": [
      "recognized,acknowledged,successful,wrong\n",
      "keen,sharp,useful,wrong\n",
      "issues,subjects,subjects,correct\n",
      "make,earn,earn,correct\n",
      "prominent,conspicuous,ancient,wrong\n",
      "slowly,gradually,gradually,correct\n",
      "built,constructed,constructed,correct\n",
      "sustained,prolonged,prolonged,correct\n",
      "distribute,circulate,circulate,correct\n",
      "consumed,eaten,eaten,correct\n",
      "wildly,furiously,furiously,correct\n",
      "tasks,jobs,jobs,correct\n",
      "primarily,chiefly,chiefly,correct\n",
      "colloquial,conversational,conversational,correct\n",
      "peculiarly,uniquely,uniquely,correct\n",
      "costly,expensive,expensive,correct\n",
      "perseverance,endurance,generosity,wrong\n",
      "tranquillity,peacefulness,peacefulness,correct\n",
      "concocted,devised,devised,correct\n",
      "hastily,hurriedly,hurriedly,correct\n",
      "\n",
      "\n",
      "(a) Model name: glove-wiki-gigaword-50\n",
      "(b) The size of the vocabulary: 400000\n",
      "(c) The number of correct labels (call this 'C'): 16\n",
      "(d) The number of questions the Model answered without guessing (call this 'V' ): 20\n",
      "(e) the accuracy of the model (i.e. C/V): 0.8\n",
      "\n",
      "\n",
      "recognized,acknowledged,acknowledged,correct\n",
      "keen,sharp,sharp,correct\n",
      "issues,subjects,subjects,correct\n",
      "make,earn,earn,correct\n",
      "prominent,conspicuous,conspicuous,correct\n",
      "slowly,gradually,gradually,correct\n",
      "built,constructed,constructed,correct\n",
      "sustained,prolonged,prolonged,correct\n",
      "distribute,circulate,circulate,correct\n",
      "consumed,eaten,eaten,correct\n",
      "wildly,furiously,furiously,correct\n",
      "tasks,jobs,jobs,correct\n",
      "primarily,chiefly,chiefly,correct\n",
      "colloquial,conversational,conversational,correct\n",
      "peculiarly,uniquely,uniquely,correct\n",
      "costly,expensive,expensive,correct\n",
      "perseverance,endurance,generosity,wrong\n",
      "tranquillity,peacefulness,peacefulness,correct\n",
      "concocted,devised,devised,correct\n",
      "hastily,hurriedly,hurriedly,correct\n",
      "\n",
      "\n",
      "(a) Model name: glove-wiki-gigaword-300\n",
      "(b) The size of the vocabulary: 400000\n",
      "(c) The number of correct labels (call this 'C'): 19\n",
      "(d) The number of questions the Model answered without guessing (call this 'V' ): 20\n",
      "(e) the accuracy of the model (i.e. C/V): 0.95\n",
      "\n",
      "\n"
     ]
    }
   ],
   "source": [
    "performance_wiki_50 = compute_synonyms(model_glove_wiki_50, \"glove-wiki-gigaword-50\")\n",
    "performance_wiki_300 = compute_synonyms(model_glove_wiki_300, \"glove-wiki-gigaword-300\")\n",
    "\n",
    "performances_embedding_list = [performance_wiki_50,performance_wiki_100,performance_wiki_300]"
   ]
  },
  {
   "cell_type": "code",
   "execution_count": 13,
   "id": "6c7e75b2",
   "metadata": {},
   "outputs": [
    {
     "data": {
      "image/png": "[encoded data removed]",
      "text/plain": [
       "<Figure size 432x288 with 1 Axes>"
      ]
     },
     "metadata": {
      "needs_background": "light"
     },
     "output_type": "display_data"
    }
   ],
   "source": [
    "# Let's compare the results of models from same corpora but with different embedding size\n",
    "\n",
    "embedding_size_list = ['50 (glove-wiki-gigaword-50)','100 (glove-wiki-gigaword-100)','300 (glove-wiki-gigaword-300)']\n",
    "\n",
    "# Creating the bar plot\n",
    "plt.bar(embedding_size_list, performances_embedding_list, color = 'lightblue', width = 0.6)\n",
    "plt.xticks(rotation = 20)\n",
    "\n",
    "plt.xlabel(\"Embedding Size\")\n",
    "plt.ylabel(\"Performance (%)\")\n",
    "plt.title(\"Performance of Wikipedia Corpora with Different Embedding Sizes\")\n",
    "plt.axhline(human_standard_perforance, label = 'Human Gold-Standard', color = 'orangered', lw = 3, ls = '--')\n",
    "plt.axhline(guess_performance, label = 'Only Guesses', color = 'green', lw = 3, ls = '--')\n",
    "plt.legend(loc = 'lower left')\n",
    "plt.show()"
   ]
  },
  {
   "cell_type": "code",
   "execution_count": 14,
   "id": "b29f30e3",
   "metadata": {},
   "outputs": [
    {
     "name": "stdout",
     "output_type": "stream",
     "text": [
      "\n",
      "In the bar plot above, the performance of three word embedding models stemming from the same corpora\n",
      "but each with different embedding sizes are compared. It is evident that the model with the highest embedding size\n",
      "displayed the highest performance. This difference in performance can be due to a more optimal value for this\n",
      "hyper-parameter being reached when the embedding size was equal to 300. A higher dimensionality in this case may \n",
      "have been more optimal if the content of the corpora contained more information allowing for a higher \n",
      "dimensionality to capture greater lexical detail. \n",
      "\n",
      "Moreover, an embedding size of 300 allowed the model to perform at a greater level than the human gold-standard\n",
      "baseline of 85.6%.\n",
      "\n"
     ]
    }
   ],
   "source": [
    "comparison_different_embedding_size = '''\n",
    "In the bar plot above, the performance of three word embedding models stemming from the same corpora\n",
    "but each with different embedding sizes are compared. It is evident that the model with the highest embedding size\n",
    "displayed the highest performance. This difference in performance can be due to a more optimal value for this\n",
    "hyper-parameter being reached when the embedding size was equal to 300. A higher dimensionality in this case may \n",
    "have been more optimal if the content of the corpora contained more information allowing for a higher \n",
    "dimensionality to capture greater lexical detail. \n",
    "\n",
    "Moreover, an embedding size of 300 allowed the model to perform at a greater level than the human gold-standard\n",
    "baseline of 85.6%.\n",
    "'''\n",
    "\n",
    "print(comparison_different_embedding_size)"
   ]
  },
  {
   "cell_type": "code",
   "execution_count": 15,
   "id": "53f09621",
   "metadata": {},
   "outputs": [
    {
     "data": {
      "image/png": "[encoded data removed]",
      "text/plain": [
       "<Figure size 504x360 with 1 Axes>"
      ]
     },
     "metadata": {
      "needs_background": "light"
     },
     "output_type": "display_data"
    }
   ],
   "source": [
    "# Let's compare the results of all models \n",
    "\n",
    "performances_all_models_list = [performance_google_300,performance_wiki_100,performance_twitter_100,performance_wiki_50,performance_wiki_300]\n",
    "model_names_list = [\"word2vec-google-news-300\",\"glove-wiki-gigaword-100\",\"glove-twitter-100\",\"glove-wiki-gigaword-50\",\"glove-wiki-gigaword-300\"]\n",
    "\n",
    "# Creating the bar plot\n",
    "plt.figure(figsize=(7, 5))\n",
    "plt.bar(model_names_list, performances_all_models_list, color = 'lightblue', width = 0.7)\n",
    "plt.xticks(rotation = 35)\n",
    "\n",
    "plt.xlabel(\"Model Name\")\n",
    "plt.ylabel(\"Performance (%)\")\n",
    "plt.title(\"Performance of Different Word Embedding Models\")\n",
    "plt.axhline(human_standard_perforance, label = 'Human Gold-Standard', color = 'orangered', lw = 3, ls = '--')\n",
    "plt.axhline(guess_performance, label = 'Only Guesses', color = 'green', lw = 3, ls = '--')\n",
    "plt.legend(loc = 'lower left')\n",
    "plt.show()\n"
   ]
  },
  {
   "cell_type": "code",
   "execution_count": 16,
   "id": "7e42c8f7",
   "metadata": {},
   "outputs": [
    {
     "name": "stdout",
     "output_type": "stream",
     "text": [
      "\n",
      "In the bar plot above, the performances of all models are compared. It is shown that the models from Google News \n",
      "and Wikipedia corpora, both with an embedding size of 300 performed the best with a rate of 88%. \n",
      "\n"
     ]
    }
   ],
   "source": [
    "comparison_all_models = '''\n",
    "In the bar plot above, the performances of all models are compared. It is shown that the models from Google News \n",
    "and Wikipedia corpora, both with an embedding size of 300 performed the best with a rate of 88%. \n",
    "'''\n",
    "\n",
    "print(comparison_all_models)"
   ]
  }
 ],
 "metadata": {
  "kernelspec": {
   "display_name": "Python 3",
   "language": "python",
   "name": "python3"
  },
  "language_info": {
   "codemirror_mode": {
    "name": "ipython",
    "version": 3
   },
   "file_extension": ".py",
   "mimetype": "text/x-python",
   "name": "python",
   "nbconvert_exporter": "python",
   "pygments_lexer": "ipython3",
   "version": "3.8.8"
  }
 },
 "nbformat": 4,
 "nbformat_minor": 5
}
